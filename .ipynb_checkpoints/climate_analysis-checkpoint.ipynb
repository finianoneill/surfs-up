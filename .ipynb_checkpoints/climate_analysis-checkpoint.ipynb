{
 "cells": [
  {
   "cell_type": "markdown",
   "metadata": {},
   "source": [
    "# Surfs Up! - Climate Analysis\n",
    "\n",
    "## PLACEHOLDER\n",
    "\n",
    "Author: Finian O'Neill"
   ]
  },
  {
   "cell_type": "code",
   "execution_count": 1,
   "metadata": {},
   "outputs": [],
   "source": [
    "# import dependencies\n",
    "%matplotlib inline\n",
    "from matplotlib import style\n",
    "style.use('fivethirtyeight')\n",
    "import matplotlib.pyplot as plt"
   ]
  },
  {
   "cell_type": "code",
   "execution_count": 2,
   "metadata": {},
   "outputs": [],
   "source": [
    "# more dependencies\n",
    "import numpy as np\n",
    "import pandas as pd\n",
    "import datetime as dt"
   ]
  },
  {
   "cell_type": "markdown",
   "metadata": {},
   "source": [
    "## Reflect Tables into SQLAlchemy ORM"
   ]
  },
  {
   "cell_type": "code",
   "execution_count": 3,
   "metadata": {},
   "outputs": [],
   "source": [
    "# Python SQL toolkit and Object Relational Mapper\n",
    "import sqlalchemy\n",
    "from sqlalchemy.ext.automap import automap_base\n",
    "from sqlalchemy.orm import Session\n",
    "from sqlalchemy import create_engine, func"
   ]
  },
  {
   "cell_type": "code",
   "execution_count": 4,
   "metadata": {},
   "outputs": [],
   "source": [
    "# set SQL alchemy engine as hawaii.sqlite file from Resources folder\n",
    "engine = create_engine(\"sqlite:///Resources/hawaii.sqlite\")"
   ]
  },
  {
   "cell_type": "code",
   "execution_count": 5,
   "metadata": {},
   "outputs": [],
   "source": [
    "# reflect an existing database into a new model\n",
    "Base = automap_base()\n",
    "# reflect the tables\n",
    "Base.prepare(engine, reflect=True)"
   ]
  },
  {
   "cell_type": "code",
   "execution_count": 6,
   "metadata": {},
   "outputs": [
    {
     "data": {
      "text/plain": [
       "['measurement', 'station']"
      ]
     },
     "execution_count": 6,
     "metadata": {},
     "output_type": "execute_result"
    }
   ],
   "source": [
    " # We can view all of the classes that automap found\n",
    "Base.classes.keys()"
   ]
  },
  {
   "cell_type": "code",
   "execution_count": 7,
   "metadata": {},
   "outputs": [],
   "source": [
    "# Save references to each table\n",
    "Measurement = Base.classes.measurement\n",
    "Station = Base.classes.station"
   ]
  },
  {
   "cell_type": "code",
   "execution_count": 8,
   "metadata": {},
   "outputs": [],
   "source": [
    "# Create our session (link) from Python to the DB\n",
    "session = Session(engine)"
   ]
  },
  {
   "cell_type": "markdown",
   "metadata": {},
   "source": [
    "##  Exploratory Climate Analysis"
   ]
  },
  {
   "cell_type": "markdown",
   "metadata": {},
   "source": [
    "### Precipitation Analysis"
   ]
  },
  {
   "cell_type": "code",
   "execution_count": 28,
   "metadata": {},
   "outputs": [
    {
     "data": {
      "text/html": [
       "<div>\n",
       "<style scoped>\n",
       "    .dataframe tbody tr th:only-of-type {\n",
       "        vertical-align: middle;\n",
       "    }\n",
       "\n",
       "    .dataframe tbody tr th {\n",
       "        vertical-align: top;\n",
       "    }\n",
       "\n",
       "    .dataframe thead th {\n",
       "        text-align: right;\n",
       "    }\n",
       "</style>\n",
       "<table border=\"1\" class=\"dataframe\">\n",
       "  <thead>\n",
       "    <tr style=\"text-align: right;\">\n",
       "      <th></th>\n",
       "      <th>prcp</th>\n",
       "    </tr>\n",
       "    <tr>\n",
       "      <th>date</th>\n",
       "      <th></th>\n",
       "    </tr>\n",
       "  </thead>\n",
       "  <tbody>\n",
       "    <tr>\n",
       "      <th>2016-08-23</th>\n",
       "      <td>0.00</td>\n",
       "    </tr>\n",
       "    <tr>\n",
       "      <th>2016-08-23</th>\n",
       "      <td>0.00</td>\n",
       "    </tr>\n",
       "    <tr>\n",
       "      <th>2016-08-23</th>\n",
       "      <td>1.79</td>\n",
       "    </tr>\n",
       "    <tr>\n",
       "      <th>2016-08-23</th>\n",
       "      <td>0.05</td>\n",
       "    </tr>\n",
       "    <tr>\n",
       "      <th>2016-08-23</th>\n",
       "      <td>0.15</td>\n",
       "    </tr>\n",
       "  </tbody>\n",
       "</table>\n",
       "</div>"
      ],
      "text/plain": [
       "            prcp\n",
       "date            \n",
       "2016-08-23  0.00\n",
       "2016-08-23  0.00\n",
       "2016-08-23  1.79\n",
       "2016-08-23  0.05\n",
       "2016-08-23  0.15"
      ]
     },
     "execution_count": 28,
     "metadata": {},
     "output_type": "execute_result"
    }
   ],
   "source": [
    "measurements = session.query(Measurement)\n",
    "max_date = dt.datetime(2010,1,1)\n",
    "\n",
    "# NOTE: I considered the last 12 months to be the last 12 months of data stored\n",
    "# within the database\n",
    "\n",
    "# first determine the date range that should be considered as the last 12 months\n",
    "for measurement in measurements:\n",
    "    year = int(measurement.date.split(\"-\")[0])\n",
    "    month = int(measurement.date.split(\"-\")[1])\n",
    "    day = int(measurement.date.split(\"-\")[2])\n",
    "    count += 1\n",
    "    # calculate the max date\n",
    "    if dt.datetime(year,month,day) > max_date:\n",
    "        max_date = dt.datetime(year,month,day)\n",
    "\n",
    "min_date = max_date - dt.timedelta(365)\n",
    "# loop back through the data and store the precipitation data (column 'prcp') \n",
    "# and date for the last 12 months prior to the max date in the dataset\n",
    "date_list = []\n",
    "prcp_list = []\n",
    "for measurement in measurements:\n",
    "    # check to see if date for current db row is within the last 12 months\n",
    "    current_year = int(measurement.date.split(\"-\")[0])\n",
    "    current_month = int(measurement.date.split(\"-\")[1])\n",
    "    current_day = int(measurement.date.split(\"-\")[2])\n",
    "    current_date = dt.datetime(current_year, current_month, current_day)\n",
    "    # if current_date is less than or equal to max_date but greater than or equal to\n",
    "    # min_date then it is within the range\n",
    "    if current_date >= min_date and current_date <= max_date:\n",
    "        date_list.append(current_date)\n",
    "        prcp_list.append(measurement.prcp)\n",
    "\n",
    "# Save the query results as a Pandas DataFrame and set the index to the date column\n",
    "last_12_months_df = pd.DataFrame(\n",
    "    {\n",
    "        \"date\": date_list,\n",
    "        \"prcp\": prcp_list\n",
    "    }\n",
    ")\n",
    "\n",
    "# Sort the dataframe by date\n",
    "last_12_months_df_sorted = last_12_months_df.sort_values(by=[\"date\"])\n",
    "\n",
    "# fill \"NaN\" values as 0\n",
    "last_12_months_df_sorted = last_12_months_df_sorted.fillna(0)\n",
    "\n",
    "# set the 'date' column as the index\n",
    "last_12_months_df_sorted = last_12_months_df_sorted.set_index(\"date\")\n",
    "\n",
    "last_12_months_df_sorted.head()"
   ]
  },
  {
   "cell_type": "code",
   "execution_count": 29,
   "metadata": {},
   "outputs": [
    {
     "data": {
      "image/png": "[encoded data removed]",
      "text/plain": [
       "<Figure size 1440x216 with 1 Axes>"
      ]
     },
     "metadata": {},
     "output_type": "display_data"
    }
   ],
   "source": [
    "# Use Pandas Plotting with Matplotlib to plot the data\n",
    "# Set x axis and tick locations\n",
    "prcp_x_axis = np.arange(len(last_12_months_df_sorted))\n",
    "prcp_tick_locations = [value for value in prcp_x_axis]\n",
    "\n",
    "# Create a list indicating where to write x labels and set figure size to adjust for space\n",
    "plt.figure(figsize=(20,3))\n",
    "plt.bar(prcp_x_axis, last_12_months_df_sorted[\"prcp\"], color='b', alpha=0.5, align=\"center\")\n",
    "\n",
    "# Rotate the xticks for the dates\n",
    "plt.xticks(prcp_tick_locations, last_12_months_df_sorted.index, rotation=\"vertical\")\n",
    "\n",
    "# set the title of the plot\n",
    "plt.title(\"Last 12 Months of Hawaii Precipitation Data\")\n",
    "plt.xlabel(\"Date\")\n",
    "plt.ylabel(\"Precipitation\")\n",
    "\n",
    "plt.show()"
   ]
  },
  {
   "cell_type": "code",
   "execution_count": 30,
   "metadata": {},
   "outputs": [
    {
     "data": {
      "text/html": [
       "<div>\n",
       "<style scoped>\n",
       "    .dataframe tbody tr th:only-of-type {\n",
       "        vertical-align: middle;\n",
       "    }\n",
       "\n",
       "    .dataframe tbody tr th {\n",
       "        vertical-align: top;\n",
       "    }\n",
       "\n",
       "    .dataframe thead th {\n",
       "        text-align: right;\n",
       "    }\n",
       "</style>\n",
       "<table border=\"1\" class=\"dataframe\">\n",
       "  <thead>\n",
       "    <tr style=\"text-align: right;\">\n",
       "      <th></th>\n",
       "      <th>prcp</th>\n",
       "    </tr>\n",
       "  </thead>\n",
       "  <tbody>\n",
       "    <tr>\n",
       "      <th>count</th>\n",
       "      <td>2230.000000</td>\n",
       "    </tr>\n",
       "    <tr>\n",
       "      <th>mean</th>\n",
       "      <td>0.160664</td>\n",
       "    </tr>\n",
       "    <tr>\n",
       "      <th>std</th>\n",
       "      <td>0.442067</td>\n",
       "    </tr>\n",
       "    <tr>\n",
       "      <th>min</th>\n",
       "      <td>0.000000</td>\n",
       "    </tr>\n",
       "    <tr>\n",
       "      <th>25%</th>\n",
       "      <td>0.000000</td>\n",
       "    </tr>\n",
       "    <tr>\n",
       "      <th>50%</th>\n",
       "      <td>0.010000</td>\n",
       "    </tr>\n",
       "    <tr>\n",
       "      <th>75%</th>\n",
       "      <td>0.110000</td>\n",
       "    </tr>\n",
       "    <tr>\n",
       "      <th>max</th>\n",
       "      <td>6.700000</td>\n",
       "    </tr>\n",
       "  </tbody>\n",
       "</table>\n",
       "</div>"
      ],
      "text/plain": [
       "              prcp\n",
       "count  2230.000000\n",
       "mean      0.160664\n",
       "std       0.442067\n",
       "min       0.000000\n",
       "25%       0.000000\n",
       "50%       0.010000\n",
       "75%       0.110000\n",
       "max       6.700000"
      ]
     },
     "execution_count": 30,
     "metadata": {},
     "output_type": "execute_result"
    }
   ],
   "source": [
    "# Use Pandas to calculate the summary statistics for the precipitation data\n",
    "last_12_months_df_sorted.describe()"
   ]
  },
  {
   "cell_type": "markdown",
   "metadata": {},
   "source": [
    "### Station Analysis"
   ]
  },
  {
   "cell_type": "code",
   "execution_count": 32,
   "metadata": {},
   "outputs": [
    {
     "name": "stdout",
     "output_type": "stream",
     "text": [
      "There are 9 stations available in the dataset.\n"
     ]
    }
   ],
   "source": [
    "# How many stations are available in this dataset?\n",
    "stations = session.query(Station)\n",
    "station_count = stations.count()\n",
    "print(f'There are {station_count} stations available in the dataset.')"
   ]
  },
  {
   "cell_type": "code",
   "execution_count": 34,
   "metadata": {},
   "outputs": [
    {
     "data": {
      "text/plain": [
       "<sqlalchemy.orm.query.Query at 0x1166e4710>"
      ]
     },
     "execution_count": 34,
     "metadata": {},
     "output_type": "execute_result"
    }
   ],
   "source": [
    "measurements"
   ]
  },
  {
   "cell_type": "code",
   "execution_count": 38,
   "metadata": {},
   "outputs": [
    {
     "data": {
      "text/html": [
       "<div>\n",
       "<style scoped>\n",
       "    .dataframe tbody tr th:only-of-type {\n",
       "        vertical-align: middle;\n",
       "    }\n",
       "\n",
       "    .dataframe tbody tr th {\n",
       "        vertical-align: top;\n",
       "    }\n",
       "\n",
       "    .dataframe thead th {\n",
       "        text-align: right;\n",
       "    }\n",
       "</style>\n",
       "<table border=\"1\" class=\"dataframe\">\n",
       "  <thead>\n",
       "    <tr style=\"text-align: right;\">\n",
       "      <th></th>\n",
       "      <th>station</th>\n",
       "      <th>observation_count</th>\n",
       "    </tr>\n",
       "  </thead>\n",
       "  <tbody>\n",
       "    <tr>\n",
       "      <th>6</th>\n",
       "      <td>USC00519281</td>\n",
       "      <td>2772</td>\n",
       "    </tr>\n",
       "    <tr>\n",
       "      <th>0</th>\n",
       "      <td>USC00519397</td>\n",
       "      <td>2724</td>\n",
       "    </tr>\n",
       "    <tr>\n",
       "      <th>1</th>\n",
       "      <td>USC00513117</td>\n",
       "      <td>2709</td>\n",
       "    </tr>\n",
       "    <tr>\n",
       "      <th>5</th>\n",
       "      <td>USC00519523</td>\n",
       "      <td>2669</td>\n",
       "    </tr>\n",
       "    <tr>\n",
       "      <th>8</th>\n",
       "      <td>USC00516128</td>\n",
       "      <td>2612</td>\n",
       "    </tr>\n",
       "    <tr>\n",
       "      <th>2</th>\n",
       "      <td>USC00514830</td>\n",
       "      <td>2202</td>\n",
       "    </tr>\n",
       "    <tr>\n",
       "      <th>7</th>\n",
       "      <td>USC00511918</td>\n",
       "      <td>1979</td>\n",
       "    </tr>\n",
       "    <tr>\n",
       "      <th>3</th>\n",
       "      <td>USC00517948</td>\n",
       "      <td>1372</td>\n",
       "    </tr>\n",
       "    <tr>\n",
       "      <th>4</th>\n",
       "      <td>USC00518838</td>\n",
       "      <td>511</td>\n",
       "    </tr>\n",
       "  </tbody>\n",
       "</table>\n",
       "</div>"
      ],
      "text/plain": [
       "       station  observation_count\n",
       "6  USC00519281               2772\n",
       "0  USC00519397               2724\n",
       "1  USC00513117               2709\n",
       "5  USC00519523               2669\n",
       "8  USC00516128               2612\n",
       "2  USC00514830               2202\n",
       "7  USC00511918               1979\n",
       "3  USC00517948               1372\n",
       "4  USC00518838                511"
      ]
     },
     "execution_count": 38,
     "metadata": {},
     "output_type": "execute_result"
    }
   ],
   "source": [
    "# What are the most active stations?\n",
    "# List the stations and observation counts in descending order.\n",
    "station_list = []\n",
    "observation_count_list = []\n",
    "for station in stations:\n",
    "    station_list.append(station.station)\n",
    "    current_observation_count = measurements.filter_by(station = station.station).count()\n",
    "    observation_count_list.append(current_observation_count)\n",
    "\n",
    "station_observations = pd.DataFrame(\n",
    "    {\n",
    "        \"station\": station_list,\n",
    "        \"observation_count\": observation_count_list\n",
    "    }\n",
    ")\n",
    "station_observations_sorted = station_observations.sort_values(by=[\"observation_count\"],\n",
    "                                                              ascending=False)\n",
    "\n",
    "station_observations_sorted"
   ]
  },
  {
   "cell_type": "code",
   "execution_count": 40,
   "metadata": {},
   "outputs": [
    {
     "name": "stdout",
     "output_type": "stream",
     "text": [
      "Station USC00519397 has the highest number of observations with 2724 observations.\n"
     ]
    }
   ],
   "source": [
    "# Which station has the highest number of observations?\n",
    "print(f'Station {station_observations_sorted[\"station\"][0]} has the highest number of \\\n",
    "observations with {station_observations_sorted[\"observation_count\"][0]} observations.')"
   ]
  },
  {
   "cell_type": "code",
   "execution_count": 52,
   "metadata": {},
   "outputs": [
    {
     "name": "stdout",
     "output_type": "stream",
     "text": [
      "For the most active station (station USC00519397), the following is true:\n",
      "lowest temperature = 56.0;\n",
      "highest temperature = 87.0;\n",
      "average temperature = 74.55323054331865.\n"
     ]
    }
   ],
   "source": [
    "# Using the station id from the previous query, calculate the lowest temperature recorded, \n",
    "# highest temperature recorded, and average temperature for the most active station?\n",
    "most_active_station_id = station_observations_sorted[\"station\"][0]\n",
    "most_active_station_meas = measurements.filter_by(station = most_active_station_id)\n",
    "lowest_temp = 1000\n",
    "highest_temp = -100\n",
    "rolling_temp = 0\n",
    "temp_count = 0\n",
    "for measurement in most_active_station_meas:\n",
    "    if measurement.tobs < lowest_temp:\n",
    "        lowest_temp = measurement.tobs\n",
    "    if measurement.tobs > highest_temp:\n",
    "        highest_temp = measurement.tobs\n",
    "    temp_count += 1\n",
    "    rolling_temp += measurement.tobs\n",
    "\n",
    "average_temp = rolling_temp / temp_count\n",
    "\n",
    "print(f'For the most active station (station {most_active_station_id}), \\\n",
    "the following is true:')\n",
    "print(f'lowest temperature = {lowest_temp};')\n",
    "print(f'highest temperature = {highest_temp};')\n",
    "print(f'average temperature = {average_temp}.')"
   ]
  },
  {
   "cell_type": "code",
   "execution_count": 61,
   "metadata": {},
   "outputs": [],
   "source": [
    "# Choose the station with the highest number of temperature observations.\n",
    "# Query the last 12 months of temperature observation data for this station\n",
    "# and plot the results as a histogram\n",
    "histo_bins = [lowest_temp, lowest_temp + ((highest_temp - lowest_temp) / 12), \n",
    "              lowest_temp + (2 * ((highest_temp - lowest_temp) / 12)), \n",
    "              lowest_temp + (3 * ((highest_temp - lowest_temp) / 12)), \n",
    "              lowest_temp + (4 * ((highest_temp - lowest_temp) / 12)), \n",
    "              lowest_temp + (5 * ((highest_temp - lowest_temp) / 12)),\n",
    "             lowest_temp + (6 * ((highest_temp - lowest_temp) / 12)),\n",
    "             lowest_temp + (7 * ((highest_temp - lowest_temp) / 12)),\n",
    "             lowest_temp + (8 * ((highest_temp - lowest_temp) / 12)),\n",
    "             lowest_temp + (9 * ((highest_temp - lowest_temp) / 12)),\n",
    "             lowest_temp + (10 * ((highest_temp - lowest_temp) / 12)),\n",
    "             lowest_temp + (11 * ((highest_temp - lowest_temp) / 12)),\n",
    "             lowest_temp + (12 * ((highest_temp - lowest_temp) / 12))]\n",
    "\n",
    "histo_bin_names = []\n",
    "for element in range(0, len(histo_bins) - 1):\n",
    "    histo_bin_names.append(histo_bins[element])"
   ]
  },
  {
   "cell_type": "code",
   "execution_count": 69,
   "metadata": {},
   "outputs": [
    {
     "data": {
      "text/html": [
       "<div>\n",
       "<style scoped>\n",
       "    .dataframe tbody tr th:only-of-type {\n",
       "        vertical-align: middle;\n",
       "    }\n",
       "\n",
       "    .dataframe tbody tr th {\n",
       "        vertical-align: top;\n",
       "    }\n",
       "\n",
       "    .dataframe thead th {\n",
       "        text-align: right;\n",
       "    }\n",
       "</style>\n",
       "<table border=\"1\" class=\"dataframe\">\n",
       "  <thead>\n",
       "    <tr style=\"text-align: right;\">\n",
       "      <th></th>\n",
       "      <th>count</th>\n",
       "    </tr>\n",
       "    <tr>\n",
       "      <th>tobs_bin</th>\n",
       "      <th></th>\n",
       "    </tr>\n",
       "  </thead>\n",
       "  <tbody>\n",
       "    <tr>\n",
       "      <th>56.000000</th>\n",
       "      <td>0</td>\n",
       "    </tr>\n",
       "    <tr>\n",
       "      <th>58.583333</th>\n",
       "      <td>3</td>\n",
       "    </tr>\n",
       "    <tr>\n",
       "      <th>61.166667</th>\n",
       "      <td>8</td>\n",
       "    </tr>\n",
       "    <tr>\n",
       "      <th>63.750000</th>\n",
       "      <td>17</td>\n",
       "    </tr>\n",
       "    <tr>\n",
       "      <th>66.333333</th>\n",
       "      <td>14</td>\n",
       "    </tr>\n",
       "    <tr>\n",
       "      <th>68.916667</th>\n",
       "      <td>40</td>\n",
       "    </tr>\n",
       "    <tr>\n",
       "      <th>71.500000</th>\n",
       "      <td>46</td>\n",
       "    </tr>\n",
       "    <tr>\n",
       "      <th>74.083333</th>\n",
       "      <td>45</td>\n",
       "    </tr>\n",
       "    <tr>\n",
       "      <th>76.666667</th>\n",
       "      <td>115</td>\n",
       "    </tr>\n",
       "    <tr>\n",
       "      <th>79.250000</th>\n",
       "      <td>68</td>\n",
       "    </tr>\n",
       "    <tr>\n",
       "      <th>81.833333</th>\n",
       "      <td>4</td>\n",
       "    </tr>\n",
       "    <tr>\n",
       "      <th>84.416667</th>\n",
       "      <td>1</td>\n",
       "    </tr>\n",
       "  </tbody>\n",
       "</table>\n",
       "</div>"
      ],
      "text/plain": [
       "           count\n",
       "tobs_bin        \n",
       "56.000000      0\n",
       "58.583333      3\n",
       "61.166667      8\n",
       "63.750000     17\n",
       "66.333333     14\n",
       "68.916667     40\n",
       "71.500000     46\n",
       "74.083333     45\n",
       "76.666667    115\n",
       "79.250000     68\n",
       "81.833333      4\n",
       "84.416667      1"
      ]
     },
     "execution_count": 69,
     "metadata": {},
     "output_type": "execute_result"
    }
   ],
   "source": [
    "# store last 12 months of temperature data for given station\n",
    "select_station_date_list = []\n",
    "tobs_list = []\n",
    "for measurement in most_active_station_meas:\n",
    "    # check to see if date for current db row is within the last 12 months\n",
    "    current_year = int(measurement.date.split(\"-\")[0])\n",
    "    current_month = int(measurement.date.split(\"-\")[1])\n",
    "    current_day = int(measurement.date.split(\"-\")[2])\n",
    "    current_date = dt.datetime(current_year, current_month, current_day)\n",
    "    # if current_date is less than or equal to max_date but greater than or equal to\n",
    "    # min_date then it is within the range\n",
    "    if current_date >= min_date and current_date <= max_date:\n",
    "        select_station_date_list.append(current_date)\n",
    "        tobs_list.append(measurement.tobs)\n",
    "\n",
    "station_tobs_df = pd.DataFrame(\n",
    "    {\n",
    "        \"date\": select_station_date_list,\n",
    "        \"tobs\": tobs_list\n",
    "    }\n",
    ")\n",
    "\n",
    "# bin the tobs for the last 12 months based on the defined bins\n",
    "station_tobs_df[\"tobs_bin\"] = pd.cut(station_tobs_df[\"tobs\"], \n",
    "                                     histo_bins, labels=histo_bin_names)\n",
    "\n",
    "station_tobs_group = station_tobs_df.groupby(\"tobs_bin\")\n",
    "\n",
    "# Find how many rows fall into each bin and store in a dataframe\n",
    "histogram_df = pd.DataFrame(station_tobs_group[\"tobs_bin\"].count())\n",
    "histogram_df = histogram_df.rename(columns={\"tobs_bin\":\"count\"})\n",
    "histogram_df"
   ]
  },
  {
   "cell_type": "code",
   "execution_count": 72,
   "metadata": {},
   "outputs": [
    {
     "data": {
      "image/png": "[encoded data removed]",
      "text/plain": [
       "<Figure size 1440x216 with 1 Axes>"
      ]
     },
     "metadata": {},
     "output_type": "display_data"
    }
   ],
   "source": [
    "# Use Pandas Plotting with Matplotlib to plot the data\n",
    "# Set x axis and tick locations\n",
    "tobs_x_axis = np.arange(len(histogram_df))\n",
    "tobs_tick_locations = [value for value in tobs_x_axis]\n",
    "\n",
    "# Create a list indicating where to write x labels and set figure size to adjust for space\n",
    "plt.figure(figsize=(20,3))\n",
    "plt.bar(tobs_x_axis, histogram_df[\"count\"], color='g', alpha=0.5, align=\"center\")\n",
    "\n",
    "# Rotate the xticks for the dates\n",
    "plt.xticks(tobs_tick_locations, histogram_df.index, rotation=\"vertical\")\n",
    "\n",
    "# set the title of the plot\n",
    "plt.title(f'Last 12 Months of Station {most_active_station_id} TOBS Histogram')\n",
    "plt.xlabel(\"TOBS\")\n",
    "plt.ylabel(\"Count\")\n",
    "\n",
    "plt.show()"
   ]
  },
  {
   "cell_type": "code",
   "execution_count": null,
   "metadata": {},
   "outputs": [],
   "source": [
    "# Write a function called `calc_temps` that will accept start date and end date in the format '%Y-%m-%d' \n",
    "# and return the minimum, average, and maximum temperatures for that range of dates\n",
    "def calc_temps(start_date, end_date):\n",
    "    \"\"\"TMIN, TAVG, and TMAX for a list of dates.\n",
    "    \n",
    "    Args:\n",
    "        start_date (string): A date string in the format %Y-%m-%d\n",
    "        end_date (string): A date string in the format %Y-%m-%d\n",
    "        \n",
    "    Returns:\n",
    "        TMIN, TAVE, and TMAX\n",
    "    \"\"\"\n",
    "    \n",
    "    return session.query(func.min(Measurement.tobs), func.avg(Measurement.tobs), func.max(Measurement.tobs)).\\\n",
    "        filter(Measurement.date >= start_date).filter(Measurement.date <= end_date).all()\n",
    "print(calc_temps('2012-02-28', '2012-03-05'))"
   ]
  },
  {
   "cell_type": "code",
   "execution_count": null,
   "metadata": {},
   "outputs": [],
   "source": [
    "# Use your previous function `calc_temps` to calculate the tmin, tavg, and tmax \n",
    "# for your trip using the previous year's data for those same dates."
   ]
  },
  {
   "cell_type": "code",
   "execution_count": null,
   "metadata": {},
   "outputs": [],
   "source": [
    "# Plot the results from your previous query as a bar chart. \n",
    "# Use \"Trip Avg Temp\" as your Title\n",
    "# Use the average temperature for the y value\n",
    "# Use the peak-to-peak (tmax-tmin) value as the y error bar (yerr)"
   ]
  },
  {
   "cell_type": "code",
   "execution_count": null,
   "metadata": {},
   "outputs": [],
   "source": [
    "# Calculate the rainfall per weather station for your trip dates using the previous year's matching dates.\n",
    "# Sort this in descending order by precipitation amount and list the station, name, latitude, longitude, and elevation"
   ]
  },
  {
   "cell_type": "markdown",
   "metadata": {},
   "source": [
    "## Additional Analyses"
   ]
  },
  {
   "cell_type": "code",
   "execution_count": null,
   "metadata": {},
   "outputs": [],
   "source": [
    "# Create a query that will calculate the daily normals \n",
    "# (i.e. the averages for tmin, tmax, and tavg for all historic data matching a specific month and day)\n",
    "\n",
    "def daily_normals(date):\n",
    "    \"\"\"Daily Normals.\n",
    "    \n",
    "    Args:\n",
    "        date (str): A date string in the format '%m-%d'\n",
    "        \n",
    "    Returns:\n",
    "        A list of tuples containing the daily normals, tmin, tavg, and tmax\n",
    "    \n",
    "    \"\"\"\n",
    "    \n",
    "    sel = [func.min(Measurement.tobs), func.avg(Measurement.tobs), func.max(Measurement.tobs)]\n",
    "    return session.query(*sel).filter(func.strftime(\"%m-%d\", Measurement.date) == date).all()\n",
    "    \n",
    "daily_normals(\"01-01\")"
   ]
  },
  {
   "cell_type": "code",
   "execution_count": null,
   "metadata": {},
   "outputs": [],
   "source": [
    "# calculate the daily normals for your trip\n",
    "# push each tuple of calculations into a list called `normals`\n",
    "\n",
    "# Set the start and end date of the trip\n",
    "\n",
    "# Use the start and end date to create a range of dates\n",
    "\n",
    "# Stip off the year and save a list of %m-%d strings\n",
    "\n",
    "# Loop through the list of %m-%d strings and calculate the normals for each date"
   ]
  },
  {
   "cell_type": "code",
   "execution_count": null,
   "metadata": {},
   "outputs": [],
   "source": [
    "# Load the previous query results into a Pandas DataFrame and add the `trip_dates` range as the `date` index"
   ]
  },
  {
   "cell_type": "code",
   "execution_count": null,
   "metadata": {},
   "outputs": [],
   "source": [
    "# Plot the daily normals as an area plot with `stacked=False`"
   ]
  }
 ],
 "metadata": {
  "kernelspec": {
   "display_name": "Python [conda env:PythonData]",
   "language": "python",
   "name": "conda-env-PythonData-py"
  },
  "language_info": {
   "codemirror_mode": {
    "name": "ipython",
    "version": 3
   },
   "file_extension": ".py",
   "mimetype": "text/x-python",
   "name": "python",
   "nbconvert_exporter": "python",
   "pygments_lexer": "ipython3",
   "version": "3.6.5"
  }
 },
 "nbformat": 4,
 "nbformat_minor": 2
}
